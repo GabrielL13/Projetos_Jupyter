{
 "cells": [
  {
   "cell_type": "markdown",
   "id": "ef47048f",
   "metadata": {},
   "source": [
    "Instituto Federal de Educação, Ciência e Tecnologia<br>\n",
    "Disciplina: Análise e Técnicas de Algoritmos<br>\n",
    "Aluno: Gabriel Lopes Rodrigues e Silva<br>"
   ]
  },
  {
   "cell_type": "markdown",
   "id": "2349cba6",
   "metadata": {},
   "source": [
    "### Algoritmos de Ordenação"
   ]
  },
  {
   "cell_type": "markdown",
   "id": "5a961648",
   "metadata": {},
   "source": [
    "O projeto de algoritmos de ordenação visa explorar e implementar uma variedade de técnicas de ordenação, como Bubble Sort, Merge Sort, Quick Sort e outras, com o objetivo de analisar seu desempenho, eficiência e complexidade temporal em diferentes conjuntos de dados. Este projeto busca não apenas compreender a lógica por trás de cada algoritmo, mas também avaliar seu comportamento em termos de tempo de execução e uso de recursos computacionais, oferecendo insights valiosos sobre qual algoritmo é mais adequado para diferentes contextos e volumes de dados."
   ]
  },
  {
   "cell_type": "code",
   "execution_count": 1,
   "id": "217eaf96",
   "metadata": {},
   "outputs": [],
   "source": [
    "lista = [56, 12, 1, 23, 98, 10, 1, 4, 7, 72, 86, 91, 82, 67, 34, 30, 22, 1, 23, 28, 32, 86, 32, 78, 12, 77, 34, 60, 33, 14, 89, 23, 98, 100, 2, 4, 7, 72, 86, 91, 23, 28, 32, 86, 32, 78, 56, 12, 1, 23, 98, 10, 44, 67, 89, 29, 40, 88, 14, 0, 8, 21, 66, 33, 44, 99, 100, 2, 4, 7, 72, 86, 100, 2, 4, 7, 72, 86, 100, 2, 4, 7, 72, 86]"
   ]
  },
  {
   "cell_type": "markdown",
   "id": "a91bee8f",
   "metadata": {},
   "source": [
    "- Bubble Sort<br>\n",
    "\n",
    "É um algoritmo de ordenação simples e intuitivo. Ele percorre repetidamente a lista de elementos, comparando pares adjacentes e trocando-os caso estejam na ordem errada. Esse processo continua até que toda a lista esteja ordenada. O ponto interessante é que, embora seja fácil de entender e implementar, o Bubble Sort tende a ser ineficiente para conjuntos de dados grandes, já que requer várias iterações através do conjunto, o que pode resultar em um alto tempo de execução."
   ]
  },
  {
   "cell_type": "code",
   "execution_count": 2,
   "id": "7f081e3a",
   "metadata": {},
   "outputs": [],
   "source": [
    "def bubble_sort(lista):\n",
    "    i = len(lista)\n",
    "    for j in range(len(lista)):\n",
    "        i = i - 1\n",
    "        for k in range(i):\n",
    "            if(lista[k] > lista[k+1]):\n",
    "                lista[k+1],lista[k] = lista[k],lista[k+1]\n",
    "    return lista"
   ]
  },
  {
   "cell_type": "code",
   "execution_count": 3,
   "id": "f4af53cf",
   "metadata": {},
   "outputs": [
    {
     "name": "stdout",
     "output_type": "stream",
     "text": [
      "689 µs ± 0 ns per loop (mean ± std. dev. of 1 run, 1 loop each)\n",
      "\n",
      "[0, 1, 1, 1, 1, 2, 2, 2, 2, 4, 4, 4, 4, 4, 7, 7, 7, 7, 7, 8, 10, 10, 12, 12, 12, 14, 14, 21, 22, 23, 23, 23, 23, 23, 28, 28, 29, 30, 32, 32, 32, 32, 33, 33, 34, 34, 40, 44, 44, 56, 56, 60, 66, 67, 67, 72, 72, 72, 72, 72, 77, 78, 78, 82, 86, 86, 86, 86, 86, 86, 86, 88, 89, 89, 91, 91, 98, 98, 98, 99, 100, 100, 100, 100]\n"
     ]
    }
   ],
   "source": [
    "resultado_tempo = %timeit -r1 -n1 -o bubble_sort(lista)\n",
    "bubble = resultado_tempo.best * 1000\n",
    "print()\n",
    "print(bubble_sort(lista))"
   ]
  },
  {
   "cell_type": "markdown",
   "id": "77d608e2",
   "metadata": {},
   "source": [
    "- Selection Sort<br>\n",
    "\n",
    "É um algoritmo de ordenação simples que percorre a lista de elementos várias vezes. A cada passagem, ele encontra o menor elemento não ordenado e o coloca na posição correta. Esse processo continua até que toda a lista esteja ordenada. Apesar de ser fácil de implementar, o Selection Sort também não é muito eficiente para conjuntos de dados muito grandes, pois mesmo que reduza o número de trocas em relação ao Bubble Sort, ainda requer múltiplas iterações, o que pode resultar em um desempenho mais lento."
   ]
  },
  {
   "cell_type": "code",
   "execution_count": 4,
   "id": "9638fcc1",
   "metadata": {},
   "outputs": [],
   "source": [
    "def selection_sort(lista):\n",
    "    n = len(lista)\n",
    "    for i in range(n):\n",
    "        menor = (101, 0)\n",
    "        for k in range(i, n):\n",
    "            if lista[k] < menor[0]:\n",
    "                menor = (lista[k], k)\n",
    "        lista[i], lista[menor[1]] = lista[menor[1]], lista[i]\n",
    "    return lista"
   ]
  },
  {
   "cell_type": "code",
   "execution_count": 5,
   "id": "ec563296",
   "metadata": {},
   "outputs": [
    {
     "name": "stdout",
     "output_type": "stream",
     "text": [
      "270 µs ± 0 ns per loop (mean ± std. dev. of 1 run, 1 loop each)\n",
      "\n",
      "[0, 1, 1, 1, 1, 2, 2, 2, 2, 4, 4, 4, 4, 4, 7, 7, 7, 7, 7, 8, 10, 10, 12, 12, 12, 14, 14, 21, 22, 23, 23, 23, 23, 23, 28, 28, 29, 30, 32, 32, 32, 32, 33, 33, 34, 34, 40, 44, 44, 56, 56, 60, 66, 67, 67, 72, 72, 72, 72, 72, 77, 78, 78, 82, 86, 86, 86, 86, 86, 86, 86, 88, 89, 89, 91, 91, 98, 98, 98, 99, 100, 100, 100, 100]\n"
     ]
    }
   ],
   "source": [
    "resultado_tempo = %timeit -r1 -n1 -o selection_sort(lista)\n",
    "selection = resultado_tempo.best * 1000\n",
    "print()\n",
    "print(selection_sort(lista))"
   ]
  },
  {
   "cell_type": "markdown",
   "id": "5f6f436f",
   "metadata": {},
   "source": [
    "- Insertion Sort<br>\n",
    "    \n",
    "    \n",
    " A lógica reside em percorrer a lista de elementos, construindo a seção ordenada à medida que avança. A cada passagem, o algoritmo seleciona um elemento não ordenado e o insere na posição apropriada na seção ordenada da lista, deslocando os elementos maiores conforme necessário. Essa abordagem se destaca em conjuntos de dados menores devido à sua simplicidade e baixa complexidade. No entanto, em conjuntos de dados muito extensos, o Insertion Sort pode apresentar desempenho menos eficiente"
   ]
  },
  {
   "cell_type": "code",
   "execution_count": 6,
   "id": "bebdae7d",
   "metadata": {},
   "outputs": [],
   "source": [
    "def insertion_sort(lista):\n",
    "    for i in range(1,len(lista)):\n",
    "        chave = lista[i]\n",
    "        j = i - 1\n",
    "        while j >= 0 and chave < lista[j]:\n",
    "            lista[j + 1] = lista[j]\n",
    "            j -= 1\n",
    "        lista[j + 1] = chave\n",
    "    return lista"
   ]
  },
  {
   "cell_type": "code",
   "execution_count": 7,
   "id": "21be53af",
   "metadata": {},
   "outputs": [
    {
     "name": "stdout",
     "output_type": "stream",
     "text": [
      "19.6 µs ± 0 ns per loop (mean ± std. dev. of 1 run, 1 loop each)\n",
      "\n",
      "[0, 1, 1, 1, 1, 2, 2, 2, 2, 4, 4, 4, 4, 4, 7, 7, 7, 7, 7, 8, 10, 10, 12, 12, 12, 14, 14, 21, 22, 23, 23, 23, 23, 23, 28, 28, 29, 30, 32, 32, 32, 32, 33, 33, 34, 34, 40, 44, 44, 56, 56, 60, 66, 67, 67, 72, 72, 72, 72, 72, 77, 78, 78, 82, 86, 86, 86, 86, 86, 86, 86, 88, 89, 89, 91, 91, 98, 98, 98, 99, 100, 100, 100, 100]\n"
     ]
    }
   ],
   "source": [
    "resultado_tempo = %timeit -r1 -n1 -o insertion_sort(lista)\n",
    "insertion = resultado_tempo.best * 1000\n",
    "print()\n",
    "print(insertion_sort(lista))"
   ]
  },
  {
   "cell_type": "markdown",
   "id": "f6b13dcb",
   "metadata": {},
   "source": [
    "- Merge Sort<br>\n",
    "\n",
    "É uma técnica de ordenação que opera dividindo repetidamente uma lista não ordenada em metades menores até que cada subdivisão contenha apenas um elemento. Depois, ele combina essas subdivisões, mesclando-as em sublistas maiores e ordenadas. Sua abordagem baseada em dividir para conquistar é altamente eficiente, oferecendo desempenho consistente mesmo em conjuntos de dados extensos. A etapa de combinação é especialmente eficaz, resultando em uma ordenação completa da lista original de forma muito eficiente."
   ]
  },
  {
   "cell_type": "code",
   "execution_count": 8,
   "id": "5f8dbde8",
   "metadata": {},
   "outputs": [],
   "source": [
    "def merge_sort(lista):\n",
    "    if len(lista) > 1:\n",
    "        x = len(lista)//2\n",
    "        esquerda = lista[:x]\n",
    "        direita = lista[x:]\n",
    "        merge_sort(esquerda)\n",
    "        merge_sort(direita)\n",
    "\n",
    "        i = j = k = 0\n",
    "        while i < len(esquerda) and j < len(direita):\n",
    "            if esquerda[i] < direita[j]:\n",
    "                lista[k] = esquerda[i]\n",
    "                i += 1\n",
    "            else:\n",
    "                lista[k] = direita[j]\n",
    "                j += 1\n",
    "            k += 1\n",
    "        while i < len(esquerda):\n",
    "            lista[k] = esquerda[i]\n",
    "            i += 1\n",
    "            k += 1\n",
    "\n",
    "        while j < len(direita):\n",
    "            lista[k] = direita[j]\n",
    "            j += 1\n",
    "            k += 1\n",
    "    return lista"
   ]
  },
  {
   "cell_type": "code",
   "execution_count": 9,
   "id": "7720c22b",
   "metadata": {},
   "outputs": [
    {
     "name": "stdout",
     "output_type": "stream",
     "text": [
      "178 µs ± 0 ns per loop (mean ± std. dev. of 1 run, 1 loop each)\n",
      "\n",
      "[0, 1, 1, 1, 1, 2, 2, 2, 2, 4, 4, 4, 4, 4, 7, 7, 7, 7, 7, 8, 10, 10, 12, 12, 12, 14, 14, 21, 22, 23, 23, 23, 23, 23, 28, 28, 29, 30, 32, 32, 32, 32, 33, 33, 34, 34, 40, 44, 44, 56, 56, 60, 66, 67, 67, 72, 72, 72, 72, 72, 77, 78, 78, 82, 86, 86, 86, 86, 86, 86, 86, 88, 89, 89, 91, 91, 98, 98, 98, 99, 100, 100, 100, 100]\n"
     ]
    }
   ],
   "source": [
    "resultado_tempo = %timeit -r1 -n1 -o merge_sort(lista)\n",
    "merge = resultado_tempo.best * 1000\n",
    "print()\n",
    "print(merge_sort(lista))"
   ]
  },
  {
   "cell_type": "markdown",
   "id": "c4cf4fb1",
   "metadata": {},
   "source": [
    "- Quick Sort<br>\n",
    "\n",
    "é um algoritmo de ordenação que utiliza a estratégia \"dividir para conquistar\". Ele seleciona um elemento, chamado de pivô, reorganiza os elementos da lista de forma que os elementos menores que o pivô fiquem antes dele e os elementos maiores, depois. Em seguida, aplica recursivamente essa lógica nas sublistas geradas até que toda a lista esteja ordenada. O ponto forte do Quick Sort é sua eficiência em conjuntos de dados extensos e médios devido à sua natureza recursiva e à capacidade de realizar ordenações in-place, o que reduz a utilização de memória adicional. No entanto, em situações específicas, pode ter um desempenho menos estável em comparação com outros algoritmos, dependendo da escolha do pivô e da distribuição dos dados."
   ]
  },
  {
   "cell_type": "code",
   "execution_count": 10,
   "id": "c68ac4f6",
   "metadata": {},
   "outputs": [],
   "source": [
    "def quick_sort(lista):\n",
    "    if len(lista) <= 1:\n",
    "        return lista\n",
    "    pivô = lista[-1]\n",
    "    menor = [elemento for elemento in lista if elemento < pivô]\n",
    "    igual = [elemento for elemento in lista if elemento == pivô]\n",
    "    maior = [elemento for elemento in lista if elemento > pivô]\n",
    "    return quick_sort(menor) + igual + quick_sort(maior)"
   ]
  },
  {
   "cell_type": "code",
   "execution_count": 11,
   "id": "fbedfd6d",
   "metadata": {},
   "outputs": [
    {
     "name": "stdout",
     "output_type": "stream",
     "text": [
      "312 µs ± 0 ns per loop (mean ± std. dev. of 1 run, 1 loop each)\n",
      "\n",
      "[0, 1, 1, 1, 1, 2, 2, 2, 2, 4, 4, 4, 4, 4, 7, 7, 7, 7, 7, 8, 10, 10, 12, 12, 12, 14, 14, 21, 22, 23, 23, 23, 23, 23, 28, 28, 29, 30, 32, 32, 32, 32, 33, 33, 34, 34, 40, 44, 44, 56, 56, 60, 66, 67, 67, 72, 72, 72, 72, 72, 77, 78, 78, 82, 86, 86, 86, 86, 86, 86, 86, 88, 89, 89, 91, 91, 98, 98, 98, 99, 100, 100, 100, 100]\n"
     ]
    }
   ],
   "source": [
    "resultado_tempo = %timeit -r1 -n1 -o quick_sort(lista)\n",
    "quick = resultado_tempo.best * 1000\n",
    "print()\n",
    "print(quick_sort(lista))"
   ]
  },
  {
   "cell_type": "markdown",
   "id": "c161ae89",
   "metadata": {},
   "source": [
    "#### Resultados obtidos"
   ]
  },
  {
   "cell_type": "markdown",
   "id": "a6c3c22e",
   "metadata": {},
   "source": [
    "Os algoritmos de ordenação oferecem diferentes abordagens para organizar conjuntos de dados, cada um com suas vantagens e limitações. Escolher o algoritmo certo depende do tamanho do conjunto de dados, da eficiência desejada e das características específicas do problema, sendo crucial encontrar o equilíbrio entre desempenho e complexidade para atender às necessidades do contexto."
   ]
  },
  {
   "cell_type": "code",
   "execution_count": 19,
   "id": "f075cab3",
   "metadata": {},
   "outputs": [
    {
     "data": {
      "image/png": "[encoded data removed]",
      "text/plain": [
       "<Figure size 800x600 with 1 Axes>"
      ]
     },
     "metadata": {},
     "output_type": "display_data"
    },
    {
     "data": {
      "text/html": [
       "<div>\n",
       "<style scoped>\n",
       "    .dataframe tbody tr th:only-of-type {\n",
       "        vertical-align: middle;\n",
       "    }\n",
       "\n",
       "    .dataframe tbody tr th {\n",
       "        vertical-align: top;\n",
       "    }\n",
       "\n",
       "    .dataframe thead th {\n",
       "        text-align: right;\n",
       "    }\n",
       "</style>\n",
       "<table border=\"1\" class=\"dataframe\">\n",
       "  <thead>\n",
       "    <tr style=\"text-align: right;\">\n",
       "      <th></th>\n",
       "      <th>Função</th>\n",
       "      <th>Tempo de Execução (ms)</th>\n",
       "    </tr>\n",
       "  </thead>\n",
       "  <tbody>\n",
       "    <tr>\n",
       "      <th>0</th>\n",
       "      <td>bubble</td>\n",
       "      <td>0.688639</td>\n",
       "    </tr>\n",
       "    <tr>\n",
       "      <th>1</th>\n",
       "      <td>selection</td>\n",
       "      <td>0.270185</td>\n",
       "    </tr>\n",
       "    <tr>\n",
       "      <th>2</th>\n",
       "      <td>insertion</td>\n",
       "      <td>0.019592</td>\n",
       "    </tr>\n",
       "    <tr>\n",
       "      <th>3</th>\n",
       "      <td>merge</td>\n",
       "      <td>0.177737</td>\n",
       "    </tr>\n",
       "    <tr>\n",
       "      <th>4</th>\n",
       "      <td>quick</td>\n",
       "      <td>0.311560</td>\n",
       "    </tr>\n",
       "  </tbody>\n",
       "</table>\n",
       "</div>"
      ],
      "text/plain": [
       "      Função  Tempo de Execução (ms)\n",
       "0     bubble                0.688639\n",
       "1  selection                0.270185\n",
       "2  insertion                0.019592\n",
       "3      merge                0.177737\n",
       "4      quick                0.311560"
      ]
     },
     "execution_count": 19,
     "metadata": {},
     "output_type": "execute_result"
    }
   ],
   "source": [
    "import pandas as pd\n",
    "import matplotlib.pyplot as plt\n",
    "\n",
    "nomes = [\"bubble\", \"selection\", \"insertion\", \"merge\", \"quick\"]\n",
    "tempos = [bubble, selection, insertion, merge, quick]\n",
    "df = pd.DataFrame({'Função': nomes, 'Tempo de Execução (ms)': tempos})\n",
    "plt.figure(figsize=(8, 6))\n",
    "plt.plot(df['Função'], df['Tempo de Execução (ms)'], marker='o', linestyle='-', color='blue')\n",
    "plt.title('Tempos de Execução das Funções')\n",
    "plt.xlabel('Funções')\n",
    "plt.ylabel('Tempo de Execução (ms)')\n",
    "plt.xticks(rotation=45)\n",
    "plt.tight_layout()\n",
    "plt.show()\n",
    "df"
   ]
  }
 ],
 "metadata": {
  "kernelspec": {
   "display_name": "Python 3 (ipykernel)",
   "language": "python",
   "name": "python3"
  },
  "language_info": {
   "codemirror_mode": {
    "name": "ipython",
    "version": 3
   },
   "file_extension": ".py",
   "mimetype": "text/x-python",
   "name": "python",
   "nbconvert_exporter": "python",
   "pygments_lexer": "ipython3",
   "version": "3.9.2"
  }
 },
 "nbformat": 4,
 "nbformat_minor": 5
}
